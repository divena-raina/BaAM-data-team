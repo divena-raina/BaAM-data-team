{
 "cells": [
  {
   "cell_type": "code",
   "execution_count": 1,
   "metadata": {},
   "outputs": [],
   "source": [
    "import pandas as pd\n",
    "import numpy as np"
   ]
  },
  {
   "cell_type": "code",
   "execution_count": 2,
   "metadata": {},
   "outputs": [],
   "source": [
    "crime_df = pd.read_csv(\"socio_data/chicago_crime_with_socio.csv\")\n",
    "business_df = pd.read_csv(\"business_licenses_datasets/business_licenses.csv\")\n",
    "population_df = pd.read_csv(\"population_datasets/Chicago_Population_Counts_Cleaned.csv\")\n",
    "homicides_df = pd.read_csv(\"cleaned_data/Chicago_Homicides_Cleaned.csv\")"
   ]
  },
  {
   "cell_type": "code",
   "execution_count": 8,
   "metadata": {},
   "outputs": [
    {
     "name": "stdout",
     "output_type": "stream",
     "text": [
      "<class 'pandas.core.frame.DataFrame'>\n",
      "Index: 0 entries\n",
      "Data columns (total 39 columns):\n",
      " #   Column                             Non-Null Count  Dtype  \n",
      "---  ------                             --------------  -----  \n",
      " 0   ID                                 0 non-null      object \n",
      " 1   LICENSE ID                         0 non-null      int64  \n",
      " 2   ACCOUNT NUMBER                     0 non-null      int64  \n",
      " 3   SITE NUMBER                        0 non-null      int64  \n",
      " 4   LEGAL NAME                         0 non-null      object \n",
      " 5   DOING BUSINESS AS NAME             0 non-null      object \n",
      " 6   ADDRESS                            0 non-null      object \n",
      " 7   CITY                               0 non-null      object \n",
      " 8   STATE                              0 non-null      object \n",
      " 9   ZIP CODE                           0 non-null      object \n",
      " 10  WARD                               0 non-null      float64\n",
      " 11  PRECINCT                           0 non-null      float64\n",
      " 12  WARD PRECINCT                      0 non-null      object \n",
      " 13  POLICE DISTRICT                    0 non-null      float64\n",
      " 14  COMMUNITY AREA                     0 non-null      float64\n",
      " 15  COMMUNITY AREA NAME                0 non-null      object \n",
      " 16  NEIGHBORHOOD                       0 non-null      object \n",
      " 17  LICENSE CODE                       0 non-null      int64  \n",
      " 18  LICENSE DESCRIPTION                0 non-null      object \n",
      " 19  BUSINESS ACTIVITY ID               0 non-null      object \n",
      " 20  BUSINESS ACTIVITY                  0 non-null      object \n",
      " 21  LICENSE NUMBER                     0 non-null      int64  \n",
      " 22  APPLICATION TYPE                   0 non-null      object \n",
      " 23  APPLICATION CREATED DATE           0 non-null      object \n",
      " 24  APPLICATION REQUIREMENTS COMPLETE  0 non-null      object \n",
      " 25  PAYMENT DATE                       0 non-null      object \n",
      " 26  CONDITIONAL APPROVAL               0 non-null      object \n",
      " 27  LICENSE TERM START DATE            0 non-null      object \n",
      " 28  LICENSE TERM EXPIRATION DATE       0 non-null      object \n",
      " 29  LICENSE APPROVED FOR ISSUANCE      0 non-null      object \n",
      " 30  DATE ISSUED                        0 non-null      object \n",
      " 31  LICENSE STATUS                     0 non-null      object \n",
      " 32  LICENSE STATUS CHANGE DATE         0 non-null      float64\n",
      " 33  SSA                                0 non-null      float64\n",
      " 34  LATITUDE                           0 non-null      float64\n",
      " 35  LONGITUDE                          0 non-null      float64\n",
      " 36  LOCATION                           0 non-null      object \n",
      " 37  is_retail                          0 non-null      bool   \n",
      " 38  is_food                            0 non-null      bool   \n",
      "dtypes: bool(2), float64(8), int64(5), object(24)\n",
      "memory usage: 0.0+ bytes\n"
     ]
    }
   ],
   "source": [
    "business_df.info()"
   ]
  },
  {
   "cell_type": "code",
   "execution_count": 5,
   "metadata": {},
   "outputs": [],
   "source": [
    "# === Feature Engineering ===\n",
    "\n",
    "## 1) Crime Socio-Demographics Features (already partly cleaned)\n",
    "# Drop records without community area name\n",
    "crime_df_clean = crime_df.dropna(subset=[\"COMMUNITY_AREA_NAME\"])\n",
    "\n",
    "# Group by community area and average the socio-demographic values\n",
    "socio_features = crime_df_clean.groupby(\"COMMUNITY_AREA_NAME\").agg({\n",
    "    \"PERCENT_OF_HOUSING_CROWDED\": \"mean\",\n",
    "    \"PERCENT_HOUSEHOLDS_BELOW_POVERTY\": \"mean\",\n",
    "    \"PERCENT_AGED_16+_UNEMPLOYED\": \"mean\",\n",
    "    \"PERCENT_AGED_25+_WITHOUT_HIGH_SCHOOL_DIPLOMA\": \"mean\",\n",
    "    \"PER_CAPITA_INCOME\": \"mean\",\n",
    "    \"HARDSHIP_INDEX\": \"mean\"\n",
    "}).reset_index()\n",
    "\n",
    "# Rename for clarity\n",
    "socio_features.columns = [\n",
    "    \"Community Area\", \"Pct_Housing_Crowded\", \"Pct_Below_Poverty\",\n",
    "    \"Pct_Unemployed\", \"Pct_Without_HS_Diploma\",\n",
    "    \"Per_Capita_Income\", \"Hardship_Index\"\n",
    "]"
   ]
  },
  {
   "cell_type": "code",
   "execution_count": 6,
   "metadata": {},
   "outputs": [],
   "source": [
    "## 2) Population-based Features\n",
    "# Calculate new features from population_df\n",
    "population_df[\"Pct_Under_18\"] = population_df[\"Population - Age 0-17\"] / population_df[\"Population - Total\"] * 100\n",
    "population_df[\"Pct_Seniors_65plus\"] = population_df[\"Population - Age 65+\"] / population_df[\"Population - Total\"] * 100\n",
    "population_df[\"Gender_Ratio_Female_Male\"] = population_df[\"Population - Female\"] / population_df[\"Population - Male\"]\n",
    "population_df[\"Pct_Black_Non_Latinx\"] = population_df[\"Population - Black Non-Latinx\"] / population_df[\"Population - Total\"] * 100\n",
    "population_df[\"Pct_Latinx\"] = population_df[\"Population - Latinx\"] / population_df[\"Population - Total\"] * 100\n",
    "\n",
    "# Calculate Dependency Ratio\n",
    "working_age = population_df[\"Population - Age 18+\"] - population_df[\"Population - Age 65+\"]\n",
    "dependent = population_df[\"Population - Age 0-17\"] + population_df[\"Population - Age 65+\"]\n",
    "population_df[\"Dependency_Ratio\"] = dependent / working_age\n",
    "\n",
    "# Population density\n",
    "population_df[\"Pop_Density\"] = population_df[\"Population - Total\"] / 2.5  # if land area unavailable, use a placeholder\n",
    "\n",
    "# Select engineered features\n",
    "pop_features = population_df[[\n",
    "    \"community\", \"Population - Total\", \"Pct_Under_18\", \"Pct_Seniors_65plus\", \"Gender_Ratio_Female_Male\",\n",
    "    \"Pct_Black_Non_Latinx\", \"Pct_Latinx\", \"Dependency_Ratio\", \"Pop_Density\"\n",
    "]].rename(columns={\"community\": \"Community Area\"})"
   ]
  },
  {
   "cell_type": "code",
   "execution_count": 10,
   "metadata": {},
   "outputs": [],
   "source": [
    "## 3. Business Density Features\n",
    "# === Filter active business licenses ===\n",
    "business_df = business_df.copy()\n",
    "business_df = business_df[\n",
    "    (business_df[\"LICENSE TERM EXPIRATION DATE\"] >= \"2022-01-01\") &\n",
    "    (business_df[\"COMMUNITY AREA\"].notna())\n",
    "]\n",
    "\n",
    "# Drop duplicates\n",
    "business_df = business_df.drop_duplicates(subset=[\"LICENSE ID\"])\n",
    "\n",
    "# Clean license descriptions\n",
    "business_df[\"LICENSE DESCRIPTION\"] = business_df[\"LICENSE DESCRIPTION\"].str.lower()\n",
    "\n",
    "# Add business category flags\n",
    "business_df[\"is_retail\"] = business_df[\"LICENSE DESCRIPTION\"].str.contains(\"retail\")\n",
    "business_df[\"is_food\"] = business_df[\"LICENSE DESCRIPTION\"].str.contains(\"restaurant|food|catering|grocery\")\n",
    "\n",
    "# Group by community area\n",
    "business_features = business_df.groupby(\"COMMUNITY AREA\").agg({\n",
    "    \"LICENSE ID\": \"count\",\n",
    "    \"is_retail\": \"sum\",\n",
    "    \"is_food\": \"sum\",\n",
    "    \"LICENSE CODE\": pd.Series.nunique\n",
    "}).reset_index()\n",
    "\n",
    "# Rename columns\n",
    "business_features.columns = [\n",
    "    \"Community_Area_Code\", \"Active_Business_Count\",\n",
    "    \"Retail_Business_Count\", \"Restaurant_Count\", \"License_Type_Diversity\"\n",
    "]\n",
    "\n",
    "# merge with area name\n",
    "area_map = crime_df[[\"COMMUNITY_AREA\", \"COMMUNITY_AREA_NAME\"]].dropna().drop_duplicates()\n",
    "business_features = pd.merge(business_features, area_map,\n",
    "                             left_on=\"Community_Area_Code\", right_on=\"COMMUNITY_AREA\", how=\"left\")\n",
    "\n",
    "business_features = business_features.rename(columns={\"COMMUNITY_AREA_NAME\": \"Community Area\"})"
   ]
  },
  {
   "cell_type": "code",
   "execution_count": 11,
   "metadata": {},
   "outputs": [],
   "source": [
    "# === Merge All Features ===\n",
    "\n",
    "# Merge socio + population\n",
    "merged_df = pd.merge(socio_features, pop_features, on=\"Community Area\", how=\"left\")\n",
    "\n",
    "# Merge business features\n",
    "final_df = pd.merge(merged_df, business_features[[\n",
    "    \"Community Area\", \"Active_Business_Count\",\n",
    "    \"Retail_Business_Count\", \"Restaurant_Count\",\n",
    "    \"License_Type_Diversity\"\n",
    "]], on=\"Community Area\", how=\"left\")\n",
    "\n",
    "# Business per 1000 residents\n",
    "final_df[\"Business_Per_1000\"] = final_df[\"Active_Business_Count\"] / final_df[\"Population - Total\"] * 1000\n"
   ]
  },
  {
   "cell_type": "code",
   "execution_count": 12,
   "metadata": {},
   "outputs": [],
   "source": [
    "final_df.to_csv(\"sociodemographic_features_by_area.csv\", index=False)"
   ]
  },
  {
   "cell_type": "code",
   "execution_count": 13,
   "metadata": {},
   "outputs": [],
   "source": [
    "# === Document Features ===\n",
    "feature_dict = pd.DataFrame({\n",
    "    \"Feature\": final_df.columns,\n",
    "    \"Description\": [\n",
    "        \"Name of community area\",\n",
    "        \"% Housing crowded\", \"% Below poverty\", \"% Unemployed\",\n",
    "        \"% without high school\", \"Per capita income\", \"Hardship index\",\n",
    "        \"Population\", \"% Under 18\", \"% 65+\", \"Female to male ratio\",\n",
    "        \"% Black Non-Latinx\", \"% Latinx\", \"Age dependency ratio\", \"Population density\",\n",
    "        \"Active business licenses\", \"# of retail businesses\", \"# of restaurants\",\n",
    "        \"Unique license types\", \"Businesses per 1000 residents\"\n",
    "    ],\n",
    "    \"Data Type\": [\"str\"] + [\"float\"] * (len(final_df.columns) - 1)\n",
    "})\n",
    "\n",
    "feature_dict.to_csv(\"feature_documentation.csv\", index=False)"
   ]
  }
 ],
 "metadata": {
  "kernelspec": {
   "display_name": "Python 3",
   "language": "python",
   "name": "python3"
  },
  "language_info": {
   "codemirror_mode": {
    "name": "ipython",
    "version": 3
   },
   "file_extension": ".py",
   "mimetype": "text/x-python",
   "name": "python",
   "nbconvert_exporter": "python",
   "pygments_lexer": "ipython3",
   "version": "3.9.6"
  }
 },
 "nbformat": 4,
 "nbformat_minor": 2
}

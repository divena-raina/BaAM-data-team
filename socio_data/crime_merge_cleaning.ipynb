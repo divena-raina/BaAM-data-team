{
 "cells": [
  {
   "cell_type": "code",
   "execution_count": 1,
   "metadata": {},
   "outputs": [],
   "source": [
    "import pandas as pd\n",
    "import os"
   ]
  },
  {
   "cell_type": "code",
   "execution_count": 2,
   "metadata": {},
   "outputs": [],
   "source": [
    "# data\n",
    "crime_df = pd.read_csv('Crimes_-_2001_to_Present_20250205.csv')\n",
    "socio_df = pd.read_csv('Census_Data_-_Selected_socioeconomic_indicators_in_Chicago__2008___2012_20250704.csv')"
   ]
  },
  {
   "cell_type": "code",
   "execution_count": 4,
   "metadata": {},
   "outputs": [],
   "source": [
    "# Drop irrelevant columns\n",
    "columns_to_drop = [\n",
    "    'ID', 'Case Number', 'Updated On', 'Location'\n",
    "]\n",
    "crime_df.drop(columns=columns_to_drop, errors='ignore', inplace=True)"
   ]
  },
  {
   "cell_type": "code",
   "execution_count": 7,
   "metadata": {},
   "outputs": [],
   "source": [
    "# format dates and year\n",
    "crime_df['Date'] = pd.to_datetime(crime_df['Date'], errors='coerce')\n",
    "crime_df['Year'] = pd.to_numeric(crime_df['Year'], errors='coerce')"
   ]
  },
  {
   "cell_type": "code",
   "execution_count": 8,
   "metadata": {},
   "outputs": [
    {
     "name": "stdout",
     "output_type": "stream",
     "text": [
      "Merge complete. Files saved in `cleaned_data/` folder.\n"
     ]
    }
   ],
   "source": [
    "# filter years >= 2012\n",
    "crime_df = crime_df[crime_df['Year'] >= 2012]\n",
    "\n",
    "# standardize column names in socio df\n",
    "socio_df.columns = socio_df.columns.str.strip().str.upper().str.replace(' ', '_')\n",
    "\n",
    "# Rename for merging\n",
    "crime_df.rename(columns={'Community Area': 'COMMUNITY_AREA'}, inplace=True)\n",
    "socio_df.rename(columns={'COMMUNITY_AREA_NUMBER': 'COMMUNITY_AREA'}, inplace=True)\n",
    "\n",
    "# Merge datasets\n",
    "merged_df = crime_df.merge(socio_df, on='COMMUNITY_AREA', how='left')\n",
    "\n",
    "# Export merged dataset\n",
    "output_dir = 'cleaned_data_with_socio'\n",
    "os.makedirs(output_dir, exist_ok=True)\n",
    "merged_df.to_csv(f'{output_dir}/chicago_crime_with_socio.csv', index=False)\n",
    "\n",
    "# Document what was cleaned\n",
    "doc = {\n",
    "    'dropped_columns': columns_to_drop,\n",
    "    'filtered_years': '2012–2024',\n",
    "    'merge_key': 'COMMUNITY_AREA',\n",
    "    'socio_cols_added': [col for col in socio_df.columns if col != 'COMMUNITY_AREA'],\n",
    "    'final_row_count': len(merged_df),\n",
    "    'final_column_count': merged_df.shape[1]\n",
    "}\n",
    "\n",
    "import json\n",
    "with open(f'{output_dir}/cleaning_documentation.json', 'w') as f:\n",
    "    json.dump(doc, f, indent=2)\n",
    "\n",
    "print(\"Merge complete. Files saved in `cleaned_data/` folder.\")\n"
   ]
  }
 ],
 "metadata": {
  "kernelspec": {
   "display_name": "base",
   "language": "python",
   "name": "python3"
  },
  "language_info": {
   "codemirror_mode": {
    "name": "ipython",
    "version": 3
   },
   "file_extension": ".py",
   "mimetype": "text/x-python",
   "name": "python",
   "nbconvert_exporter": "python",
   "pygments_lexer": "ipython3",
   "version": "3.12.7"
  }
 },
 "nbformat": 4,
 "nbformat_minor": 2
}
